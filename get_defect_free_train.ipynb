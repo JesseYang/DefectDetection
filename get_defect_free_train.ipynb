{
 "cells": [
  {
   "cell_type": "code",
   "execution_count": 1,
   "metadata": {},
   "outputs": [],
   "source": [
    "import os"
   ]
  },
  {
   "cell_type": "code",
   "execution_count": 51,
   "metadata": {},
   "outputs": [],
   "source": [
    "train_img_dir = \"data10/Test\"\n",
    "train_lab_dir = \"data10/Test/Label\"\n",
    "good_output = \"test_good_10.txt\"\n",
    "bad_output = \"test_bad_10.txt\""
   ]
  },
  {
   "cell_type": "code",
   "execution_count": 52,
   "metadata": {},
   "outputs": [],
   "source": [
    "img_path_list = [os.path.join(train_img_dir, e) for e in os.listdir(train_img_dir) if e.endswith('PNG')]"
   ]
  },
  {
   "cell_type": "code",
   "execution_count": 53,
   "metadata": {},
   "outputs": [],
   "source": [
    "lab_path_list = [e.split('_')[0] for e in os.listdir(train_lab_dir) if e.endswith('PNG')]"
   ]
  },
  {
   "cell_type": "code",
   "execution_count": 54,
   "metadata": {},
   "outputs": [],
   "source": [
    "good_img_path_list = []\n",
    "bad_img_path_list = []"
   ]
  },
  {
   "cell_type": "code",
   "execution_count": 55,
   "metadata": {},
   "outputs": [],
   "source": [
    "for img_path in img_path_list:\n",
    "    img_num = img_path.split('/')[-1].split('.')[0]\n",
    "    if img_num not in lab_path_list:\n",
    "        good_img_path_list.append(img_path)\n",
    "    else:\n",
    "        bad_img_path_list.append(img_path)"
   ]
  },
  {
   "cell_type": "code",
   "execution_count": 56,
   "metadata": {},
   "outputs": [],
   "source": [
    "f = open(good_output, 'w')\n",
    "for path in good_img_path_list:\n",
    "    f.write(path + \"\\n\")\n",
    "f.close()"
   ]
  },
  {
   "cell_type": "code",
   "execution_count": 57,
   "metadata": {},
   "outputs": [],
   "source": [
    "f = open(bad_output, 'w')\n",
    "for path in bad_img_path_list:\n",
    "    f.write(path + \"\\n\")\n",
    "f.close()"
   ]
  },
  {
   "cell_type": "code",
   "execution_count": null,
   "metadata": {},
   "outputs": [],
   "source": []
  }
 ],
 "metadata": {
  "kernelspec": {
   "display_name": "Python 3",
   "language": "python",
   "name": "python3"
  },
  "language_info": {
   "codemirror_mode": {
    "name": "ipython",
    "version": 3
   },
   "file_extension": ".py",
   "mimetype": "text/x-python",
   "name": "python",
   "nbconvert_exporter": "python",
   "pygments_lexer": "ipython3",
   "version": "3.5.2"
  }
 },
 "nbformat": 4,
 "nbformat_minor": 2
}
